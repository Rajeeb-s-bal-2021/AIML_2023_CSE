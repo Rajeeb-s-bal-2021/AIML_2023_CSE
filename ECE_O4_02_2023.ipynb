{
  "nbformat": 4,
  "nbformat_minor": 0,
  "metadata": {
    "colab": {
      "provenance": [],
      "authorship_tag": "ABX9TyMpmpe3ikw0DaMGVlf2+lh1",
      "include_colab_link": true
    },
    "kernelspec": {
      "name": "python3",
      "display_name": "Python 3"
    },
    "language_info": {
      "name": "python"
    }
  },
  "cells": [
    {
      "cell_type": "markdown",
      "metadata": {
        "id": "view-in-github",
        "colab_type": "text"
      },
      "source": [
        "<a href=\"https://colab.research.google.com/github/Rajeeb-s-bal-2021/AIML_2023_CSE/blob/main/ECE_O4_02_2023.ipynb\" target=\"_parent\"><img src=\"https://colab.research.google.com/assets/colab-badge.svg\" alt=\"Open In Colab\"/></a>"
      ]
    },
    {
      "cell_type": "code",
      "execution_count": 2,
      "metadata": {
        "colab": {
          "base_uri": "https://localhost:8080/"
        },
        "id": "hYdqiGJDr8TW",
        "outputId": "6ba3fc31-5406-437b-f149-04c0cad7b72f"
      },
      "outputs": [
        {
          "output_type": "stream",
          "name": "stdout",
          "text": [
            "a/b= 2.5\n",
            "a//b= 2\n",
            "a**b= 25\n",
            "a<b= False\n",
            "a>b= True\n"
          ]
        }
      ],
      "source": [
        "#Using Arithmetic Operators and Comparision operators.\n",
        "a=5\n",
        "b=2\n",
        "print('a/b=',a/b)\n",
        "print('a//b=',a//b)\n",
        "print('a**b=',a**b)\n",
        "print('a<b=',a<b)\n",
        "print('a>b=',a>b)"
      ]
    },
    {
      "cell_type": "code",
      "source": [
        "#Using Logical Operators\n",
        "a=True\n",
        "print('not A=',not a)\n",
        "b=False\n",
        "print('not B=',not b)"
      ],
      "metadata": {
        "colab": {
          "base_uri": "https://localhost:8080/"
        },
        "id": "lfbnXq4tu_K6",
        "outputId": "1e50ad64-e616-4859-f725-6ae8bf9a5447"
      },
      "execution_count": 3,
      "outputs": [
        {
          "output_type": "stream",
          "name": "stdout",
          "text": [
            "not A= False\n",
            "not B= True\n"
          ]
        }
      ]
    },
    {
      "cell_type": "code",
      "source": [
        "#Using BitWise Operator\n",
        "a=2\n",
        "b=3\n",
        "c=a<<b\n",
        "print('a<<b=',c)"
      ],
      "metadata": {
        "colab": {
          "base_uri": "https://localhost:8080/"
        },
        "id": "KjLtEYHVwzk_",
        "outputId": "090eeb0e-a840-4e68-935c-19837b803d80"
      },
      "execution_count": 4,
      "outputs": [
        {
          "output_type": "stream",
          "name": "stdout",
          "text": [
            "a<<b= 16\n"
          ]
        }
      ]
    },
    {
      "cell_type": "code",
      "source": [
        "#Using IDENTITY OPERATOR (is and is not).\n",
        "a=5\n",
        "b=5\n",
        "print('a is b', a is b)\n",
        "print('a is not b', a is not b)\n",
        "x='CSE'\n",
        "y='ECE'\n",
        "print('x is y', x is y)\n",
        "print('x is not y', x is not y)"
      ],
      "metadata": {
        "colab": {
          "base_uri": "https://localhost:8080/"
        },
        "id": "FL7Jx0HUyWyu",
        "outputId": "0a4c74ca-54e0-491b-cdb5-bd7b7f8c6e1e"
      },
      "execution_count": 5,
      "outputs": [
        {
          "output_type": "stream",
          "name": "stdout",
          "text": [
            "a is b True\n",
            "a is not b False\n",
            "x is y False\n",
            "x is not y True\n"
          ]
        }
      ]
    },
    {
      "cell_type": "code",
      "source": [
        "#Using Membership operator (in and not in)\n",
        "a='Hello ECE'\n",
        "print('A in a =', a in 'H')\n",
        "print('a in A =', 'H' in a)"
      ],
      "metadata": {
        "colab": {
          "base_uri": "https://localhost:8080/"
        },
        "id": "AwDRBifa0GPS",
        "outputId": "fb0cacf0-fafb-42d6-bbcf-48efa163e5f5"
      },
      "execution_count": 8,
      "outputs": [
        {
          "output_type": "stream",
          "name": "stdout",
          "text": [
            "A in a = False\n",
            "a in A = True\n"
          ]
        }
      ]
    },
    {
      "cell_type": "code",
      "source": [
        "#Using if and else statement\n",
        "num=int(input(\"enter the number?\"))  \n",
        "if num%2 == 0:\n",
        "  print(\"Number is even\")\n",
        "else:\n",
        "  print(\"Number is odd\")"
      ],
      "metadata": {
        "colab": {
          "base_uri": "https://localhost:8080/"
        },
        "id": "JHZigiv81fyd",
        "outputId": "65a10a23-fb69-48fd-9cd0-eda772d1bf4d"
      },
      "execution_count": 13,
      "outputs": [
        {
          "output_type": "stream",
          "name": "stdout",
          "text": [
            "enter the number?20\n",
            "Number is even\n"
          ]
        }
      ]
    },
    {
      "cell_type": "code",
      "source": [
        "#Using if..elif Statement \n",
        "number=int(input(\"Enter the number?\"))\n",
        "if number==10:\n",
        "  print(\"number is equals to 10\")\n",
        "elif number==50:\n",
        "  print(\"number is equal to 50\")\n",
        "elif number==100:\n",
        "  print(\"number is equal to 100\")\n",
        "else:\n",
        "  print(\"number is not equal to 10, 50 or 100\")\n"
      ],
      "metadata": {
        "colab": {
          "base_uri": "https://localhost:8080/"
        },
        "id": "LM9-LyMZ38g_",
        "outputId": "55ee3341-f52a-45bf-fab7-0b9fbd84b0cc"
      },
      "execution_count": 15,
      "outputs": [
        {
          "output_type": "stream",
          "name": "stdout",
          "text": [
            "Enter the number?50\n",
            "number is equal to 50\n"
          ]
        }
      ]
    }
  ]
}